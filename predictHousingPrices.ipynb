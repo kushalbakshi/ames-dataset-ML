{
 "cells": [
  {
   "cell_type": "markdown",
   "id": "57bedc88",
   "metadata": {
    "papermill": {
     "duration": 0.013657,
     "end_time": "2022-03-23T16:19:48.693641",
     "exception": false,
     "start_time": "2022-03-23T16:19:48.679984",
     "status": "completed"
    },
    "tags": []
   },
   "source": [
    "# Objective: #\n",
    "\n",
    "### **Each submission will be used to assess the effectiveness of making small pre- and post-processing changes to the overall predictive capability of a random forest model** ###\n",
    "\n",
    "### *The submissions will occur in the following order:* ###\n",
    "\n",
    "> 1. Training using numerical data only. Preprocessing: Highly correlated variables dropped and NaN columns dropped from training data. NaNs in test data are replaced by 0. \n",
    "\n",
    "> 2. Training using numerical data only. Preprocessing: Target variable ('SalePrice') log-transformed to exhibit a normal distribution. "
   ]
  },
  {
   "cell_type": "code",
   "execution_count": 1,
   "id": "8f36f4a6",
   "metadata": {
    "_cell_guid": "b1076dfc-b9ad-4769-8c92-a6c4dae69d19",
    "_uuid": "8f2839f25d086af736a60e9eeb907d3b93b6e0e5",
    "execution": {
     "iopub.execute_input": "2022-03-23T16:19:48.728826Z",
     "iopub.status.busy": "2022-03-23T16:19:48.727832Z",
     "iopub.status.idle": "2022-03-23T16:19:50.105601Z",
     "shell.execute_reply": "2022-03-23T16:19:50.104983Z",
     "shell.execute_reply.started": "2022-03-22T22:43:45.264262Z"
    },
    "papermill": {
     "duration": 1.398769,
     "end_time": "2022-03-23T16:19:50.105774",
     "exception": false,
     "start_time": "2022-03-23T16:19:48.707005",
     "status": "completed"
    },
    "tags": []
   },
   "outputs": [
    {
     "name": "stdout",
     "output_type": "stream",
     "text": [
      "/kaggle/input/house-prices-advanced-regression-techniques/sample_submission.csv\n",
      "/kaggle/input/house-prices-advanced-regression-techniques/data_description.txt\n",
      "/kaggle/input/house-prices-advanced-regression-techniques/train.csv\n",
      "/kaggle/input/house-prices-advanced-regression-techniques/test.csv\n"
     ]
    }
   ],
   "source": [
    "import numpy as np\n",
    "import pandas as pd\n",
    "import matplotlib.pyplot as plt\n",
    "import seaborn as sns\n",
    "from sklearn.ensemble import RandomForestRegressor as RFR\n",
    "import os\n",
    "for dirname, _, filenames in os.walk('/kaggle/input'):\n",
    "    for filename in filenames:\n",
    "        print(os.path.join(dirname, filename))"
   ]
  },
  {
   "cell_type": "code",
   "execution_count": 2,
   "id": "987079d2",
   "metadata": {
    "execution": {
     "iopub.execute_input": "2022-03-23T16:19:50.135949Z",
     "iopub.status.busy": "2022-03-23T16:19:50.135038Z",
     "iopub.status.idle": "2022-03-23T16:19:50.198785Z",
     "shell.execute_reply": "2022-03-23T16:19:50.199243Z",
     "shell.execute_reply.started": "2022-03-22T22:42:45.985851Z"
    },
    "papermill": {
     "duration": 0.08028,
     "end_time": "2022-03-23T16:19:50.199400",
     "exception": false,
     "start_time": "2022-03-23T16:19:50.119120",
     "status": "completed"
    },
    "tags": []
   },
   "outputs": [
    {
     "data": {
      "text/html": [
       "<div>\n",
       "<style scoped>\n",
       "    .dataframe tbody tr th:only-of-type {\n",
       "        vertical-align: middle;\n",
       "    }\n",
       "\n",
       "    .dataframe tbody tr th {\n",
       "        vertical-align: top;\n",
       "    }\n",
       "\n",
       "    .dataframe thead th {\n",
       "        text-align: right;\n",
       "    }\n",
       "</style>\n",
       "<table border=\"1\" class=\"dataframe\">\n",
       "  <thead>\n",
       "    <tr style=\"text-align: right;\">\n",
       "      <th></th>\n",
       "      <th>Id</th>\n",
       "      <th>MSSubClass</th>\n",
       "      <th>MSZoning</th>\n",
       "      <th>LotFrontage</th>\n",
       "      <th>LotArea</th>\n",
       "      <th>Street</th>\n",
       "      <th>Alley</th>\n",
       "      <th>LotShape</th>\n",
       "      <th>LandContour</th>\n",
       "      <th>Utilities</th>\n",
       "      <th>...</th>\n",
       "      <th>PoolArea</th>\n",
       "      <th>PoolQC</th>\n",
       "      <th>Fence</th>\n",
       "      <th>MiscFeature</th>\n",
       "      <th>MiscVal</th>\n",
       "      <th>MoSold</th>\n",
       "      <th>YrSold</th>\n",
       "      <th>SaleType</th>\n",
       "      <th>SaleCondition</th>\n",
       "      <th>SalePrice</th>\n",
       "    </tr>\n",
       "  </thead>\n",
       "  <tbody>\n",
       "    <tr>\n",
       "      <th>0</th>\n",
       "      <td>1</td>\n",
       "      <td>60</td>\n",
       "      <td>RL</td>\n",
       "      <td>65.0</td>\n",
       "      <td>8450</td>\n",
       "      <td>Pave</td>\n",
       "      <td>NaN</td>\n",
       "      <td>Reg</td>\n",
       "      <td>Lvl</td>\n",
       "      <td>AllPub</td>\n",
       "      <td>...</td>\n",
       "      <td>0</td>\n",
       "      <td>NaN</td>\n",
       "      <td>NaN</td>\n",
       "      <td>NaN</td>\n",
       "      <td>0</td>\n",
       "      <td>2</td>\n",
       "      <td>2008</td>\n",
       "      <td>WD</td>\n",
       "      <td>Normal</td>\n",
       "      <td>208500</td>\n",
       "    </tr>\n",
       "    <tr>\n",
       "      <th>1</th>\n",
       "      <td>2</td>\n",
       "      <td>20</td>\n",
       "      <td>RL</td>\n",
       "      <td>80.0</td>\n",
       "      <td>9600</td>\n",
       "      <td>Pave</td>\n",
       "      <td>NaN</td>\n",
       "      <td>Reg</td>\n",
       "      <td>Lvl</td>\n",
       "      <td>AllPub</td>\n",
       "      <td>...</td>\n",
       "      <td>0</td>\n",
       "      <td>NaN</td>\n",
       "      <td>NaN</td>\n",
       "      <td>NaN</td>\n",
       "      <td>0</td>\n",
       "      <td>5</td>\n",
       "      <td>2007</td>\n",
       "      <td>WD</td>\n",
       "      <td>Normal</td>\n",
       "      <td>181500</td>\n",
       "    </tr>\n",
       "    <tr>\n",
       "      <th>2</th>\n",
       "      <td>3</td>\n",
       "      <td>60</td>\n",
       "      <td>RL</td>\n",
       "      <td>68.0</td>\n",
       "      <td>11250</td>\n",
       "      <td>Pave</td>\n",
       "      <td>NaN</td>\n",
       "      <td>IR1</td>\n",
       "      <td>Lvl</td>\n",
       "      <td>AllPub</td>\n",
       "      <td>...</td>\n",
       "      <td>0</td>\n",
       "      <td>NaN</td>\n",
       "      <td>NaN</td>\n",
       "      <td>NaN</td>\n",
       "      <td>0</td>\n",
       "      <td>9</td>\n",
       "      <td>2008</td>\n",
       "      <td>WD</td>\n",
       "      <td>Normal</td>\n",
       "      <td>223500</td>\n",
       "    </tr>\n",
       "    <tr>\n",
       "      <th>3</th>\n",
       "      <td>4</td>\n",
       "      <td>70</td>\n",
       "      <td>RL</td>\n",
       "      <td>60.0</td>\n",
       "      <td>9550</td>\n",
       "      <td>Pave</td>\n",
       "      <td>NaN</td>\n",
       "      <td>IR1</td>\n",
       "      <td>Lvl</td>\n",
       "      <td>AllPub</td>\n",
       "      <td>...</td>\n",
       "      <td>0</td>\n",
       "      <td>NaN</td>\n",
       "      <td>NaN</td>\n",
       "      <td>NaN</td>\n",
       "      <td>0</td>\n",
       "      <td>2</td>\n",
       "      <td>2006</td>\n",
       "      <td>WD</td>\n",
       "      <td>Abnorml</td>\n",
       "      <td>140000</td>\n",
       "    </tr>\n",
       "    <tr>\n",
       "      <th>4</th>\n",
       "      <td>5</td>\n",
       "      <td>60</td>\n",
       "      <td>RL</td>\n",
       "      <td>84.0</td>\n",
       "      <td>14260</td>\n",
       "      <td>Pave</td>\n",
       "      <td>NaN</td>\n",
       "      <td>IR1</td>\n",
       "      <td>Lvl</td>\n",
       "      <td>AllPub</td>\n",
       "      <td>...</td>\n",
       "      <td>0</td>\n",
       "      <td>NaN</td>\n",
       "      <td>NaN</td>\n",
       "      <td>NaN</td>\n",
       "      <td>0</td>\n",
       "      <td>12</td>\n",
       "      <td>2008</td>\n",
       "      <td>WD</td>\n",
       "      <td>Normal</td>\n",
       "      <td>250000</td>\n",
       "    </tr>\n",
       "  </tbody>\n",
       "</table>\n",
       "<p>5 rows × 81 columns</p>\n",
       "</div>"
      ],
      "text/plain": [
       "   Id  MSSubClass MSZoning  LotFrontage  LotArea Street Alley LotShape  \\\n",
       "0   1          60       RL         65.0     8450   Pave   NaN      Reg   \n",
       "1   2          20       RL         80.0     9600   Pave   NaN      Reg   \n",
       "2   3          60       RL         68.0    11250   Pave   NaN      IR1   \n",
       "3   4          70       RL         60.0     9550   Pave   NaN      IR1   \n",
       "4   5          60       RL         84.0    14260   Pave   NaN      IR1   \n",
       "\n",
       "  LandContour Utilities  ... PoolArea PoolQC Fence MiscFeature MiscVal MoSold  \\\n",
       "0         Lvl    AllPub  ...        0    NaN   NaN         NaN       0      2   \n",
       "1         Lvl    AllPub  ...        0    NaN   NaN         NaN       0      5   \n",
       "2         Lvl    AllPub  ...        0    NaN   NaN         NaN       0      9   \n",
       "3         Lvl    AllPub  ...        0    NaN   NaN         NaN       0      2   \n",
       "4         Lvl    AllPub  ...        0    NaN   NaN         NaN       0     12   \n",
       "\n",
       "  YrSold  SaleType  SaleCondition  SalePrice  \n",
       "0   2008        WD         Normal     208500  \n",
       "1   2007        WD         Normal     181500  \n",
       "2   2008        WD         Normal     223500  \n",
       "3   2006        WD        Abnorml     140000  \n",
       "4   2008        WD         Normal     250000  \n",
       "\n",
       "[5 rows x 81 columns]"
      ]
     },
     "execution_count": 2,
     "metadata": {},
     "output_type": "execute_result"
    }
   ],
   "source": [
    "# Import training data\n",
    "trainDF = pd.read_csv('../input/house-prices-advanced-regression-techniques/train.csv')\n",
    "trainDF.head()"
   ]
  },
  {
   "cell_type": "code",
   "execution_count": 3,
   "id": "c017661b",
   "metadata": {
    "execution": {
     "iopub.execute_input": "2022-03-23T16:19:50.229784Z",
     "iopub.status.busy": "2022-03-23T16:19:50.228887Z",
     "iopub.status.idle": "2022-03-23T16:19:50.540364Z",
     "shell.execute_reply": "2022-03-23T16:19:50.540812Z",
     "shell.execute_reply.started": "2022-03-22T22:43:02.305868Z"
    },
    "papermill": {
     "duration": 0.328215,
     "end_time": "2022-03-23T16:19:50.540998",
     "exception": false,
     "start_time": "2022-03-23T16:19:50.212783",
     "status": "completed"
    },
    "tags": []
   },
   "outputs": [
    {
     "name": "stdout",
     "output_type": "stream",
     "text": [
      "Least expensive: 34900\n",
      "Most expensive: 755000\n"
     ]
    },
    {
     "data": {
      "image/png": "[encoded data removed]",
      "text/plain": [
       "<Figure size 432x288 with 1 Axes>"
      ]
     },
     "metadata": {
      "needs_background": "light"
     },
     "output_type": "display_data"
    }
   ],
   "source": [
    "# Plot distribution of SalePrice (target)\n",
    "\n",
    "print('Least expensive: ' + str(trainDF['SalePrice'].min()))\n",
    "print('Most expensive: ' + str(trainDF['SalePrice'].max()))\n",
    "\n",
    "plt.hist(trainDF['SalePrice'], bins=range(trainDF['SalePrice'].min(),trainDF['SalePrice'].max(), 10000))\n",
    "plt.show()"
   ]
  },
  {
   "cell_type": "code",
   "execution_count": 4,
   "id": "481c683d",
   "metadata": {
    "execution": {
     "iopub.execute_input": "2022-03-23T16:19:50.575327Z",
     "iopub.status.busy": "2022-03-23T16:19:50.572757Z",
     "iopub.status.idle": "2022-03-23T16:19:50.752130Z",
     "shell.execute_reply": "2022-03-23T16:19:50.752685Z",
     "shell.execute_reply.started": "2022-03-22T22:43:23.494484Z"
    },
    "papermill": {
     "duration": 0.197441,
     "end_time": "2022-03-23T16:19:50.752845",
     "exception": false,
     "start_time": "2022-03-23T16:19:50.555404",
     "status": "completed"
    },
    "tags": []
   },
   "outputs": [
    {
     "data": {
      "image/png": "[encoded data removed]",
      "text/plain": [
       "<Figure size 432x288 with 1 Axes>"
      ]
     },
     "metadata": {
      "needs_background": "light"
     },
     "output_type": "display_data"
    }
   ],
   "source": [
    "# Log transform and plot the 'SalePrice' variable\n",
    "trainDF['SalePrice'] = np.log1p(trainDF['SalePrice'])\n",
    "plt.hist(trainDF['SalePrice'])\n",
    "plt.show()"
   ]
  },
  {
   "cell_type": "code",
   "execution_count": 5,
   "id": "8c214aa2",
   "metadata": {
    "execution": {
     "iopub.execute_input": "2022-03-23T16:19:50.796187Z",
     "iopub.status.busy": "2022-03-23T16:19:50.791519Z",
     "iopub.status.idle": "2022-03-23T16:19:50.806054Z",
     "shell.execute_reply": "2022-03-23T16:19:50.806506Z",
     "shell.execute_reply.started": "2022-03-22T22:43:27.887374Z"
    },
    "papermill": {
     "duration": 0.039054,
     "end_time": "2022-03-23T16:19:50.806711",
     "exception": false,
     "start_time": "2022-03-23T16:19:50.767657",
     "status": "completed"
    },
    "tags": []
   },
   "outputs": [
    {
     "name": "stderr",
     "output_type": "stream",
     "text": [
      "/opt/conda/lib/python3.7/site-packages/pandas/core/frame.py:4913: SettingWithCopyWarning: \n",
      "A value is trying to be set on a copy of a slice from a DataFrame\n",
      "\n",
      "See the caveats in the documentation: https://pandas.pydata.org/pandas-docs/stable/user_guide/indexing.html#returning-a-view-versus-a-copy\n",
      "  errors=errors,\n"
     ]
    }
   ],
   "source": [
    "# Separate 'object' and 'numerical' columns into separate dataframes for further analysis\n",
    "objDF = trainDF[trainDF.dtypes[trainDF.dtypes == object].index]\n",
    "numDF = trainDF[trainDF.dtypes[trainDF.dtypes != object].index]\n",
    "numDF.drop(columns='SalePrice', inplace=True)"
   ]
  },
  {
   "cell_type": "code",
   "execution_count": 6,
   "id": "dfeaed33",
   "metadata": {
    "execution": {
     "iopub.execute_input": "2022-03-23T16:19:50.840645Z",
     "iopub.status.busy": "2022-03-23T16:19:50.840002Z",
     "iopub.status.idle": "2022-03-23T16:19:51.707523Z",
     "shell.execute_reply": "2022-03-23T16:19:51.708041Z",
     "shell.execute_reply.started": "2022-03-22T22:43:29.741027Z"
    },
    "papermill": {
     "duration": 0.886217,
     "end_time": "2022-03-23T16:19:51.708204",
     "exception": false,
     "start_time": "2022-03-23T16:19:50.821987",
     "status": "completed"
    },
    "tags": []
   },
   "outputs": [
    {
     "data": {
      "image/png": "[encoded data removed]",
      "text/plain": [
       "<Figure size 864x720 with 2 Axes>"
      ]
     },
     "metadata": {
      "needs_background": "light"
     },
     "output_type": "display_data"
    }
   ],
   "source": [
    "# Generate correlation matrix for numerical data\n",
    "plt.figure(figsize=(12,10))\n",
    "sns.heatmap(numDF.corr())\n",
    "plt.show()"
   ]
  },
  {
   "cell_type": "code",
   "execution_count": 7,
   "id": "d6681fd3",
   "metadata": {
    "execution": {
     "iopub.execute_input": "2022-03-23T16:19:51.750357Z",
     "iopub.status.busy": "2022-03-23T16:19:51.749457Z",
     "iopub.status.idle": "2022-03-23T16:19:51.751696Z",
     "shell.execute_reply": "2022-03-23T16:19:51.752085Z",
     "shell.execute_reply.started": "2022-03-22T22:43:32.676466Z"
    },
    "papermill": {
     "duration": 0.02656,
     "end_time": "2022-03-23T16:19:51.752248",
     "exception": false,
     "start_time": "2022-03-23T16:19:51.725688",
     "status": "completed"
    },
    "tags": []
   },
   "outputs": [],
   "source": [
    "# Drop highly correlated variables\n",
    "numDF.drop(columns='GarageArea', inplace=True)"
   ]
  },
  {
   "cell_type": "code",
   "execution_count": 8,
   "id": "b36a31a9",
   "metadata": {
    "execution": {
     "iopub.execute_input": "2022-03-23T16:19:51.790756Z",
     "iopub.status.busy": "2022-03-23T16:19:51.789839Z",
     "iopub.status.idle": "2022-03-23T16:19:51.802712Z",
     "shell.execute_reply": "2022-03-23T16:19:51.801871Z",
     "shell.execute_reply.started": "2022-03-22T22:43:34.147005Z"
    },
    "papermill": {
     "duration": 0.033135,
     "end_time": "2022-03-23T16:19:51.802903",
     "exception": false,
     "start_time": "2022-03-23T16:19:51.769768",
     "status": "completed"
    },
    "tags": []
   },
   "outputs": [
    {
     "name": "stderr",
     "output_type": "stream",
     "text": [
      "/opt/conda/lib/python3.7/site-packages/pandas/util/_decorators.py:311: SettingWithCopyWarning: \n",
      "A value is trying to be set on a copy of a slice from a DataFrame\n",
      "\n",
      "See the caveats in the documentation: https://pandas.pydata.org/pandas-docs/stable/user_guide/indexing.html#returning-a-view-versus-a-copy\n",
      "  return func(*args, **kwargs)\n"
     ]
    }
   ],
   "source": [
    "# Check for and handle numerical NaN\n",
    "numDF.columns[numDF.isna().any()].tolist()\n",
    "numDF.dropna(axis=1, inplace=True)"
   ]
  },
  {
   "cell_type": "code",
   "execution_count": 9,
   "id": "fbeaec3c",
   "metadata": {
    "execution": {
     "iopub.execute_input": "2022-03-23T16:19:51.846342Z",
     "iopub.status.busy": "2022-03-23T16:19:51.842364Z",
     "iopub.status.idle": "2022-03-23T16:19:54.078799Z",
     "shell.execute_reply": "2022-03-23T16:19:54.078172Z",
     "shell.execute_reply.started": "2022-03-22T22:47:56.963655Z"
    },
    "papermill": {
     "duration": 2.257285,
     "end_time": "2022-03-23T16:19:54.078962",
     "exception": false,
     "start_time": "2022-03-23T16:19:51.821677",
     "status": "completed"
    },
    "tags": []
   },
   "outputs": [],
   "source": [
    "# Generate and fit the model. Get model importances\n",
    "model = RFR(n_estimators=150, bootstrap=True, oob_score=True)\n",
    "model.fit(numDF, trainDF['SalePrice'])\n",
    "important_features = pd.DataFrame(model.feature_importances_, index = numDF.columns,\n",
    "                                  columns = ['Model Importances'])"
   ]
  },
  {
   "cell_type": "code",
   "execution_count": 10,
   "id": "c313abae",
   "metadata": {
    "execution": {
     "iopub.execute_input": "2022-03-23T16:19:54.136221Z",
     "iopub.status.busy": "2022-03-23T16:19:54.135620Z",
     "iopub.status.idle": "2022-03-23T16:19:54.572373Z",
     "shell.execute_reply": "2022-03-23T16:19:54.572800Z",
     "shell.execute_reply.started": "2022-03-22T22:48:16.142441Z"
    },
    "papermill": {
     "duration": 0.475292,
     "end_time": "2022-03-23T16:19:54.572980",
     "exception": false,
     "start_time": "2022-03-23T16:19:54.097688",
     "status": "completed"
    },
    "tags": []
   },
   "outputs": [
    {
     "data": {
      "image/png": "[encoded data removed]",
      "text/plain": [
       "<Figure size 720x576 with 1 Axes>"
      ]
     },
     "metadata": {
      "needs_background": "light"
     },
     "output_type": "display_data"
    }
   ],
   "source": [
    "# Plot model importances. \n",
    "# Model can be rerun with only the most important features for better fit/less computation time\n",
    "plt.figure(figsize=(10,8))\n",
    "plt.bar(important_features.index, important_features['Model Importances'])\n",
    "plt.xticks(rotation=90)\n",
    "plt.show()"
   ]
  },
  {
   "cell_type": "code",
   "execution_count": 11,
   "id": "e80c7be2",
   "metadata": {
    "execution": {
     "iopub.execute_input": "2022-03-23T16:19:54.614465Z",
     "iopub.status.busy": "2022-03-23T16:19:54.613891Z",
     "iopub.status.idle": "2022-03-23T16:19:54.659129Z",
     "shell.execute_reply": "2022-03-23T16:19:54.658537Z",
     "shell.execute_reply.started": "2022-03-22T22:48:38.477686Z"
    },
    "papermill": {
     "duration": 0.066652,
     "end_time": "2022-03-23T16:19:54.659262",
     "exception": false,
     "start_time": "2022-03-23T16:19:54.592610",
     "status": "completed"
    },
    "tags": []
   },
   "outputs": [
    {
     "data": {
      "text/html": [
       "<div>\n",
       "<style scoped>\n",
       "    .dataframe tbody tr th:only-of-type {\n",
       "        vertical-align: middle;\n",
       "    }\n",
       "\n",
       "    .dataframe tbody tr th {\n",
       "        vertical-align: top;\n",
       "    }\n",
       "\n",
       "    .dataframe thead th {\n",
       "        text-align: right;\n",
       "    }\n",
       "</style>\n",
       "<table border=\"1\" class=\"dataframe\">\n",
       "  <thead>\n",
       "    <tr style=\"text-align: right;\">\n",
       "      <th></th>\n",
       "      <th>Id</th>\n",
       "      <th>MSSubClass</th>\n",
       "      <th>LotArea</th>\n",
       "      <th>OverallQual</th>\n",
       "      <th>OverallCond</th>\n",
       "      <th>YearBuilt</th>\n",
       "      <th>YearRemodAdd</th>\n",
       "      <th>BsmtFinSF1</th>\n",
       "      <th>BsmtFinSF2</th>\n",
       "      <th>BsmtUnfSF</th>\n",
       "      <th>...</th>\n",
       "      <th>GarageCars</th>\n",
       "      <th>WoodDeckSF</th>\n",
       "      <th>OpenPorchSF</th>\n",
       "      <th>EnclosedPorch</th>\n",
       "      <th>3SsnPorch</th>\n",
       "      <th>ScreenPorch</th>\n",
       "      <th>PoolArea</th>\n",
       "      <th>MiscVal</th>\n",
       "      <th>MoSold</th>\n",
       "      <th>YrSold</th>\n",
       "    </tr>\n",
       "  </thead>\n",
       "  <tbody>\n",
       "    <tr>\n",
       "      <th>0</th>\n",
       "      <td>1461</td>\n",
       "      <td>20</td>\n",
       "      <td>11622</td>\n",
       "      <td>5</td>\n",
       "      <td>6</td>\n",
       "      <td>1961</td>\n",
       "      <td>1961</td>\n",
       "      <td>468.0</td>\n",
       "      <td>144.0</td>\n",
       "      <td>270.0</td>\n",
       "      <td>...</td>\n",
       "      <td>1.0</td>\n",
       "      <td>140</td>\n",
       "      <td>0</td>\n",
       "      <td>0</td>\n",
       "      <td>0</td>\n",
       "      <td>120</td>\n",
       "      <td>0</td>\n",
       "      <td>0</td>\n",
       "      <td>6</td>\n",
       "      <td>2010</td>\n",
       "    </tr>\n",
       "    <tr>\n",
       "      <th>1</th>\n",
       "      <td>1462</td>\n",
       "      <td>20</td>\n",
       "      <td>14267</td>\n",
       "      <td>6</td>\n",
       "      <td>6</td>\n",
       "      <td>1958</td>\n",
       "      <td>1958</td>\n",
       "      <td>923.0</td>\n",
       "      <td>0.0</td>\n",
       "      <td>406.0</td>\n",
       "      <td>...</td>\n",
       "      <td>1.0</td>\n",
       "      <td>393</td>\n",
       "      <td>36</td>\n",
       "      <td>0</td>\n",
       "      <td>0</td>\n",
       "      <td>0</td>\n",
       "      <td>0</td>\n",
       "      <td>12500</td>\n",
       "      <td>6</td>\n",
       "      <td>2010</td>\n",
       "    </tr>\n",
       "    <tr>\n",
       "      <th>2</th>\n",
       "      <td>1463</td>\n",
       "      <td>60</td>\n",
       "      <td>13830</td>\n",
       "      <td>5</td>\n",
       "      <td>5</td>\n",
       "      <td>1997</td>\n",
       "      <td>1998</td>\n",
       "      <td>791.0</td>\n",
       "      <td>0.0</td>\n",
       "      <td>137.0</td>\n",
       "      <td>...</td>\n",
       "      <td>2.0</td>\n",
       "      <td>212</td>\n",
       "      <td>34</td>\n",
       "      <td>0</td>\n",
       "      <td>0</td>\n",
       "      <td>0</td>\n",
       "      <td>0</td>\n",
       "      <td>0</td>\n",
       "      <td>3</td>\n",
       "      <td>2010</td>\n",
       "    </tr>\n",
       "    <tr>\n",
       "      <th>3</th>\n",
       "      <td>1464</td>\n",
       "      <td>60</td>\n",
       "      <td>9978</td>\n",
       "      <td>6</td>\n",
       "      <td>6</td>\n",
       "      <td>1998</td>\n",
       "      <td>1998</td>\n",
       "      <td>602.0</td>\n",
       "      <td>0.0</td>\n",
       "      <td>324.0</td>\n",
       "      <td>...</td>\n",
       "      <td>2.0</td>\n",
       "      <td>360</td>\n",
       "      <td>36</td>\n",
       "      <td>0</td>\n",
       "      <td>0</td>\n",
       "      <td>0</td>\n",
       "      <td>0</td>\n",
       "      <td>0</td>\n",
       "      <td>6</td>\n",
       "      <td>2010</td>\n",
       "    </tr>\n",
       "    <tr>\n",
       "      <th>4</th>\n",
       "      <td>1465</td>\n",
       "      <td>120</td>\n",
       "      <td>5005</td>\n",
       "      <td>8</td>\n",
       "      <td>5</td>\n",
       "      <td>1992</td>\n",
       "      <td>1992</td>\n",
       "      <td>263.0</td>\n",
       "      <td>0.0</td>\n",
       "      <td>1017.0</td>\n",
       "      <td>...</td>\n",
       "      <td>2.0</td>\n",
       "      <td>0</td>\n",
       "      <td>82</td>\n",
       "      <td>0</td>\n",
       "      <td>0</td>\n",
       "      <td>144</td>\n",
       "      <td>0</td>\n",
       "      <td>0</td>\n",
       "      <td>1</td>\n",
       "      <td>2010</td>\n",
       "    </tr>\n",
       "  </tbody>\n",
       "</table>\n",
       "<p>5 rows × 33 columns</p>\n",
       "</div>"
      ],
      "text/plain": [
       "     Id  MSSubClass  LotArea  OverallQual  OverallCond  YearBuilt  \\\n",
       "0  1461          20    11622            5            6       1961   \n",
       "1  1462          20    14267            6            6       1958   \n",
       "2  1463          60    13830            5            5       1997   \n",
       "3  1464          60     9978            6            6       1998   \n",
       "4  1465         120     5005            8            5       1992   \n",
       "\n",
       "   YearRemodAdd  BsmtFinSF1  BsmtFinSF2  BsmtUnfSF  ...  GarageCars  \\\n",
       "0          1961       468.0       144.0      270.0  ...         1.0   \n",
       "1          1958       923.0         0.0      406.0  ...         1.0   \n",
       "2          1998       791.0         0.0      137.0  ...         2.0   \n",
       "3          1998       602.0         0.0      324.0  ...         2.0   \n",
       "4          1992       263.0         0.0     1017.0  ...         2.0   \n",
       "\n",
       "   WoodDeckSF  OpenPorchSF  EnclosedPorch  3SsnPorch  ScreenPorch  PoolArea  \\\n",
       "0         140            0              0          0          120         0   \n",
       "1         393           36              0          0            0         0   \n",
       "2         212           34              0          0            0         0   \n",
       "3         360           36              0          0            0         0   \n",
       "4           0           82              0          0          144         0   \n",
       "\n",
       "   MiscVal  MoSold  YrSold  \n",
       "0        0       6    2010  \n",
       "1    12500       6    2010  \n",
       "2        0       3    2010  \n",
       "3        0       6    2010  \n",
       "4        0       1    2010  \n",
       "\n",
       "[5 rows x 33 columns]"
      ]
     },
     "execution_count": 11,
     "metadata": {},
     "output_type": "execute_result"
    }
   ],
   "source": [
    "# Import test data\n",
    "testDF = pd.read_csv('../input/house-prices-advanced-regression-techniques/test.csv')\n",
    "numTest = testDF[numDF.columns]\n",
    "numTest.head()"
   ]
  },
  {
   "cell_type": "code",
   "execution_count": 12,
   "id": "6f03c479",
   "metadata": {
    "execution": {
     "iopub.execute_input": "2022-03-23T16:19:54.705381Z",
     "iopub.status.busy": "2022-03-23T16:19:54.704434Z",
     "iopub.status.idle": "2022-03-23T16:19:54.712665Z",
     "shell.execute_reply": "2022-03-23T16:19:54.711876Z",
     "shell.execute_reply.started": "2022-03-22T22:48:39.785592Z"
    },
    "papermill": {
     "duration": 0.032368,
     "end_time": "2022-03-23T16:19:54.712856",
     "exception": false,
     "start_time": "2022-03-23T16:19:54.680488",
     "status": "completed"
    },
    "tags": []
   },
   "outputs": [
    {
     "name": "stderr",
     "output_type": "stream",
     "text": [
      "/opt/conda/lib/python3.7/site-packages/pandas/core/frame.py:3641: SettingWithCopyWarning: \n",
      "A value is trying to be set on a copy of a slice from a DataFrame.\n",
      "Try using .loc[row_indexer,col_indexer] = value instead\n",
      "\n",
      "See the caveats in the documentation: https://pandas.pydata.org/pandas-docs/stable/user_guide/indexing.html#returning-a-view-versus-a-copy\n",
      "  self[k1] = value[k2]\n"
     ]
    }
   ],
   "source": [
    "# Fill NaNs in test dataset\n",
    "test_nan_list = numTest.columns[numTest.isna().any()].tolist()\n",
    "numTest[test_nan_list] = numTest[test_nan_list].fillna(0)"
   ]
  },
  {
   "cell_type": "code",
   "execution_count": 13,
   "id": "c49ee37b",
   "metadata": {
    "execution": {
     "iopub.execute_input": "2022-03-23T16:19:54.760168Z",
     "iopub.status.busy": "2022-03-23T16:19:54.759504Z",
     "iopub.status.idle": "2022-03-23T16:19:54.806787Z",
     "shell.execute_reply": "2022-03-23T16:19:54.807225Z",
     "shell.execute_reply.started": "2022-03-22T22:52:23.613851Z"
    },
    "papermill": {
     "duration": 0.073574,
     "end_time": "2022-03-23T16:19:54.807398",
     "exception": false,
     "start_time": "2022-03-23T16:19:54.733824",
     "status": "completed"
    },
    "tags": []
   },
   "outputs": [],
   "source": [
    "# Make predictions with current model and find inverse of the log output\n",
    "y_pred_transformed = model.predict(numTest)\n",
    "y_pred = np.expm1(y_pred_transformed)"
   ]
  },
  {
   "cell_type": "code",
   "execution_count": 14,
   "id": "7f7af88b",
   "metadata": {
    "execution": {
     "iopub.execute_input": "2022-03-23T16:19:54.853840Z",
     "iopub.status.busy": "2022-03-23T16:19:54.853218Z",
     "iopub.status.idle": "2022-03-23T16:19:54.869776Z",
     "shell.execute_reply": "2022-03-23T16:19:54.870204Z",
     "shell.execute_reply.started": "2022-03-22T22:52:24.933782Z"
    },
    "papermill": {
     "duration": 0.043125,
     "end_time": "2022-03-23T16:19:54.870362",
     "exception": false,
     "start_time": "2022-03-23T16:19:54.827237",
     "status": "completed"
    },
    "tags": []
   },
   "outputs": [
    {
     "name": "stderr",
     "output_type": "stream",
     "text": [
      "/opt/conda/lib/python3.7/site-packages/ipykernel_launcher.py:2: SettingWithCopyWarning: \n",
      "A value is trying to be set on a copy of a slice from a DataFrame.\n",
      "Try using .loc[row_indexer,col_indexer] = value instead\n",
      "\n",
      "See the caveats in the documentation: https://pandas.pydata.org/pandas-docs/stable/user_guide/indexing.html#returning-a-view-versus-a-copy\n",
      "  \n"
     ]
    },
    {
     "data": {
      "text/html": [
       "<div>\n",
       "<style scoped>\n",
       "    .dataframe tbody tr th:only-of-type {\n",
       "        vertical-align: middle;\n",
       "    }\n",
       "\n",
       "    .dataframe tbody tr th {\n",
       "        vertical-align: top;\n",
       "    }\n",
       "\n",
       "    .dataframe thead th {\n",
       "        text-align: right;\n",
       "    }\n",
       "</style>\n",
       "<table border=\"1\" class=\"dataframe\">\n",
       "  <thead>\n",
       "    <tr style=\"text-align: right;\">\n",
       "      <th></th>\n",
       "      <th>Id</th>\n",
       "      <th>SalePrice</th>\n",
       "    </tr>\n",
       "  </thead>\n",
       "  <tbody>\n",
       "    <tr>\n",
       "      <th>0</th>\n",
       "      <td>1461</td>\n",
       "      <td>125878.024979</td>\n",
       "    </tr>\n",
       "    <tr>\n",
       "      <th>1</th>\n",
       "      <td>1462</td>\n",
       "      <td>150561.643259</td>\n",
       "    </tr>\n",
       "    <tr>\n",
       "      <th>2</th>\n",
       "      <td>1463</td>\n",
       "      <td>180608.127211</td>\n",
       "    </tr>\n",
       "    <tr>\n",
       "      <th>3</th>\n",
       "      <td>1464</td>\n",
       "      <td>179180.352680</td>\n",
       "    </tr>\n",
       "    <tr>\n",
       "      <th>4</th>\n",
       "      <td>1465</td>\n",
       "      <td>190606.081572</td>\n",
       "    </tr>\n",
       "    <tr>\n",
       "      <th>...</th>\n",
       "      <td>...</td>\n",
       "      <td>...</td>\n",
       "    </tr>\n",
       "    <tr>\n",
       "      <th>1454</th>\n",
       "      <td>2915</td>\n",
       "      <td>81441.546928</td>\n",
       "    </tr>\n",
       "    <tr>\n",
       "      <th>1455</th>\n",
       "      <td>2916</td>\n",
       "      <td>84426.503355</td>\n",
       "    </tr>\n",
       "    <tr>\n",
       "      <th>1456</th>\n",
       "      <td>2917</td>\n",
       "      <td>153650.968263</td>\n",
       "    </tr>\n",
       "    <tr>\n",
       "      <th>1457</th>\n",
       "      <td>2918</td>\n",
       "      <td>116136.074406</td>\n",
       "    </tr>\n",
       "    <tr>\n",
       "      <th>1458</th>\n",
       "      <td>2919</td>\n",
       "      <td>243378.188731</td>\n",
       "    </tr>\n",
       "  </tbody>\n",
       "</table>\n",
       "<p>1459 rows × 2 columns</p>\n",
       "</div>"
      ],
      "text/plain": [
       "        Id      SalePrice\n",
       "0     1461  125878.024979\n",
       "1     1462  150561.643259\n",
       "2     1463  180608.127211\n",
       "3     1464  179180.352680\n",
       "4     1465  190606.081572\n",
       "...    ...            ...\n",
       "1454  2915   81441.546928\n",
       "1455  2916   84426.503355\n",
       "1456  2917  153650.968263\n",
       "1457  2918  116136.074406\n",
       "1458  2919  243378.188731\n",
       "\n",
       "[1459 rows x 2 columns]"
      ]
     },
     "execution_count": 14,
     "metadata": {},
     "output_type": "execute_result"
    }
   ],
   "source": [
    "submission = numTest[['Id']]\n",
    "submission['SalePrice'] = y_pred\n",
    "submission.to_csv('submission.csv', index=False)\n",
    "submission"
   ]
  },
  {
   "cell_type": "code",
   "execution_count": null,
   "id": "1110ee31",
   "metadata": {
    "execution": {
     "iopub.execute_input": "2022-03-21T21:03:21.956906Z",
     "iopub.status.busy": "2022-03-21T21:03:21.956569Z",
     "iopub.status.idle": "2022-03-21T21:03:21.96547Z",
     "shell.execute_reply": "2022-03-21T21:03:21.964573Z",
     "shell.execute_reply.started": "2022-03-21T21:03:21.956871Z"
    },
    "papermill": {
     "duration": 0.020728,
     "end_time": "2022-03-23T16:19:54.911626",
     "exception": false,
     "start_time": "2022-03-23T16:19:54.890898",
     "status": "completed"
    },
    "tags": []
   },
   "outputs": [],
   "source": []
  }
 ],
 "metadata": {
  "kernelspec": {
   "display_name": "Python 3",
   "language": "python",
   "name": "python3"
  },
  "language_info": {
   "codemirror_mode": {
    "name": "ipython",
    "version": 3
   },
   "file_extension": ".py",
   "mimetype": "text/x-python",
   "name": "python",
   "nbconvert_exporter": "python",
   "pygments_lexer": "ipython3",
   "version": "3.7.12"
  },
  "papermill": {
   "default_parameters": {},
   "duration": 15.712527,
   "end_time": "2022-03-23T16:19:55.642177",
   "environment_variables": {},
   "exception": null,
   "input_path": "__notebook__.ipynb",
   "output_path": "__notebook__.ipynb",
   "parameters": {},
   "start_time": "2022-03-23T16:19:39.929650",
   "version": "2.3.3"
  }
 },
 "nbformat": 4,
 "nbformat_minor": 5
}
